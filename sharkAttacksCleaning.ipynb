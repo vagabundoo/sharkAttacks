{
 "nbformat": 4,
 "nbformat_minor": 2,
 "metadata": {
  "language_info": {
   "name": "python",
   "codemirror_mode": {
    "name": "ipython",
    "version": 3
   },
   "version": "3.7.6-final"
  },
  "orig_nbformat": 2,
  "file_extension": ".py",
  "mimetype": "text/x-python",
  "name": "python",
  "npconvert_exporter": "python",
  "pygments_lexer": "ipython3",
  "version": 3,
  "kernelspec": {
   "name": "python37664bitc736265aa96942798be544ff59087e30",
   "display_name": "Python 3.7.6 64-bit"
  }
 },
 "cells": [
  {
   "cell_type": "code",
   "execution_count": 2,
   "metadata": {},
   "outputs": [],
   "source": [
    "import pandas as pd\n",
    "import numpy as np\n",
    "import os"
   ]
  },
  {
   "cell_type": "code",
   "execution_count": 3,
   "metadata": {},
   "outputs": [
    {
     "data": {
      "text/html": "<div>\n<style scoped>\n    .dataframe tbody tr th:only-of-type {\n        vertical-align: middle;\n    }\n\n    .dataframe tbody tr th {\n        vertical-align: top;\n    }\n\n    .dataframe thead th {\n        text-align: right;\n    }\n</style>\n<table border=\"1\" class=\"dataframe\">\n  <thead>\n    <tr style=\"text-align: right;\">\n      <th></th>\n      <th>Case Number</th>\n      <th>Date</th>\n      <th>Year</th>\n      <th>Type</th>\n      <th>Country</th>\n      <th>Area</th>\n      <th>Location</th>\n      <th>Activity</th>\n      <th>Name</th>\n      <th>Sex</th>\n      <th>...</th>\n      <th>Species</th>\n      <th>Investigator or Source</th>\n      <th>pdf</th>\n      <th>href formula</th>\n      <th>href</th>\n      <th>Case Number.1</th>\n      <th>Case Number.2</th>\n      <th>original order</th>\n      <th>Unnamed: 22</th>\n      <th>Unnamed: 23</th>\n    </tr>\n  </thead>\n  <tbody>\n    <tr>\n      <th>0</th>\n      <td>2016.09.18.c</td>\n      <td>18-Sep-16</td>\n      <td>2016</td>\n      <td>Unprovoked</td>\n      <td>USA</td>\n      <td>Florida</td>\n      <td>New Smyrna Beach, Volusia County</td>\n      <td>Surfing</td>\n      <td>male</td>\n      <td>M</td>\n      <td>...</td>\n      <td>NaN</td>\n      <td>Orlando Sentinel, 9/19/2016</td>\n      <td>2016.09.18.c-NSB.pdf</td>\n      <td>http://sharkattackfile.net/spreadsheets/pdf_di...</td>\n      <td>http://sharkattackfile.net/spreadsheets/pdf_di...</td>\n      <td>2016.09.18.c</td>\n      <td>2016.09.18.c</td>\n      <td>5993</td>\n      <td>NaN</td>\n      <td>NaN</td>\n    </tr>\n    <tr>\n      <th>1</th>\n      <td>2016.09.18.b</td>\n      <td>18-Sep-16</td>\n      <td>2016</td>\n      <td>Unprovoked</td>\n      <td>USA</td>\n      <td>Florida</td>\n      <td>New Smyrna Beach, Volusia County</td>\n      <td>Surfing</td>\n      <td>Chucky Luciano</td>\n      <td>M</td>\n      <td>...</td>\n      <td>NaN</td>\n      <td>Orlando Sentinel, 9/19/2016</td>\n      <td>2016.09.18.b-Luciano.pdf</td>\n      <td>http://sharkattackfile.net/spreadsheets/pdf_di...</td>\n      <td>http://sharkattackfile.net/spreadsheets/pdf_di...</td>\n      <td>2016.09.18.b</td>\n      <td>2016.09.18.b</td>\n      <td>5992</td>\n      <td>NaN</td>\n      <td>NaN</td>\n    </tr>\n    <tr>\n      <th>2</th>\n      <td>2016.09.18.a</td>\n      <td>18-Sep-16</td>\n      <td>2016</td>\n      <td>Unprovoked</td>\n      <td>USA</td>\n      <td>Florida</td>\n      <td>New Smyrna Beach, Volusia County</td>\n      <td>Surfing</td>\n      <td>male</td>\n      <td>M</td>\n      <td>...</td>\n      <td>NaN</td>\n      <td>Orlando Sentinel, 9/19/2016</td>\n      <td>2016.09.18.a-NSB.pdf</td>\n      <td>http://sharkattackfile.net/spreadsheets/pdf_di...</td>\n      <td>http://sharkattackfile.net/spreadsheets/pdf_di...</td>\n      <td>2016.09.18.a</td>\n      <td>2016.09.18.a</td>\n      <td>5991</td>\n      <td>NaN</td>\n      <td>NaN</td>\n    </tr>\n    <tr>\n      <th>3</th>\n      <td>2016.09.17</td>\n      <td>17-Sep-16</td>\n      <td>2016</td>\n      <td>Unprovoked</td>\n      <td>AUSTRALIA</td>\n      <td>Victoria</td>\n      <td>Thirteenth Beach</td>\n      <td>Surfing</td>\n      <td>Rory Angiolella</td>\n      <td>M</td>\n      <td>...</td>\n      <td>NaN</td>\n      <td>The Age, 9/18/2016</td>\n      <td>2016.09.17-Angiolella.pdf</td>\n      <td>http://sharkattackfile.net/spreadsheets/pdf_di...</td>\n      <td>http://sharkattackfile.net/spreadsheets/pdf_di...</td>\n      <td>2016.09.17</td>\n      <td>2016.09.17</td>\n      <td>5990</td>\n      <td>NaN</td>\n      <td>NaN</td>\n    </tr>\n    <tr>\n      <th>4</th>\n      <td>2016.09.15</td>\n      <td>16-Sep-16</td>\n      <td>2016</td>\n      <td>Unprovoked</td>\n      <td>AUSTRALIA</td>\n      <td>Victoria</td>\n      <td>Bells Beach</td>\n      <td>Surfing</td>\n      <td>male</td>\n      <td>M</td>\n      <td>...</td>\n      <td>2 m shark</td>\n      <td>The Age, 9/16/2016</td>\n      <td>2016.09.16-BellsBeach.pdf</td>\n      <td>http://sharkattackfile.net/spreadsheets/pdf_di...</td>\n      <td>http://sharkattackfile.net/spreadsheets/pdf_di...</td>\n      <td>2016.09.16</td>\n      <td>2016.09.15</td>\n      <td>5989</td>\n      <td>NaN</td>\n      <td>NaN</td>\n    </tr>\n  </tbody>\n</table>\n<p>5 rows × 24 columns</p>\n</div>",
      "text/plain": "    Case Number       Date  Year        Type    Country      Area  \\\n0  2016.09.18.c  18-Sep-16  2016  Unprovoked        USA   Florida   \n1  2016.09.18.b  18-Sep-16  2016  Unprovoked        USA   Florida   \n2  2016.09.18.a  18-Sep-16  2016  Unprovoked        USA   Florida   \n3    2016.09.17  17-Sep-16  2016  Unprovoked  AUSTRALIA  Victoria   \n4    2016.09.15  16-Sep-16  2016  Unprovoked  AUSTRALIA  Victoria   \n\n                           Location Activity             Name Sex   ...  \\\n0  New Smyrna Beach, Volusia County  Surfing             male    M  ...   \n1  New Smyrna Beach, Volusia County  Surfing   Chucky Luciano    M  ...   \n2  New Smyrna Beach, Volusia County  Surfing             male    M  ...   \n3                  Thirteenth Beach  Surfing  Rory Angiolella    M  ...   \n4                       Bells Beach  Surfing             male    M  ...   \n\n    Species        Investigator or Source                        pdf  \\\n0        NaN  Orlando Sentinel, 9/19/2016       2016.09.18.c-NSB.pdf   \n1        NaN  Orlando Sentinel, 9/19/2016   2016.09.18.b-Luciano.pdf   \n2        NaN  Orlando Sentinel, 9/19/2016       2016.09.18.a-NSB.pdf   \n3        NaN           The Age, 9/18/2016  2016.09.17-Angiolella.pdf   \n4  2 m shark           The Age, 9/16/2016  2016.09.16-BellsBeach.pdf   \n\n                                        href formula  \\\n0  http://sharkattackfile.net/spreadsheets/pdf_di...   \n1  http://sharkattackfile.net/spreadsheets/pdf_di...   \n2  http://sharkattackfile.net/spreadsheets/pdf_di...   \n3  http://sharkattackfile.net/spreadsheets/pdf_di...   \n4  http://sharkattackfile.net/spreadsheets/pdf_di...   \n\n                                                href Case Number.1  \\\n0  http://sharkattackfile.net/spreadsheets/pdf_di...  2016.09.18.c   \n1  http://sharkattackfile.net/spreadsheets/pdf_di...  2016.09.18.b   \n2  http://sharkattackfile.net/spreadsheets/pdf_di...  2016.09.18.a   \n3  http://sharkattackfile.net/spreadsheets/pdf_di...    2016.09.17   \n4  http://sharkattackfile.net/spreadsheets/pdf_di...    2016.09.16   \n\n  Case Number.2 original order Unnamed: 22 Unnamed: 23  \n0  2016.09.18.c           5993         NaN         NaN  \n1  2016.09.18.b           5992         NaN         NaN  \n2  2016.09.18.a           5991         NaN         NaN  \n3    2016.09.17           5990         NaN         NaN  \n4    2016.09.15           5989         NaN         NaN  \n\n[5 rows x 24 columns]"
     },
     "metadata": {},
     "output_type": "display_data"
    }
   ],
   "source": [
    "# Importing the csv file into a pandas dataframe\n",
    "\n",
    "os.chdir(\"/home/edu/Public/sharkAttacks\")\n",
    "os.getcwd()\n",
    "\n",
    "df = pd.read_csv(\"input/GSAF5.csv\", encoding = \"ISO-8859-1\")\n",
    "\n",
    "# Saving a copy of the original df in order to not have to re-read the csv if we want to undo a change.\n",
    "dfBackup = df\n",
    "\n",
    "# Let's get an idea of how the dataframe looks like.\n",
    "display(df.head())\n"
   ]
  },
  {
   "cell_type": "code",
   "execution_count": 4,
   "metadata": {},
   "outputs": [
    {
     "data": {
      "text/plain": "Index(['Case Number', 'Date', 'Year', 'Type', 'Country', 'Area', 'Location',\n       'Activity', 'Name', 'Sex ', 'Age', 'Injury', 'Fatal (Y/N)', 'Time',\n       'Species ', 'Investigator or Source', 'pdf', 'href formula', 'href',\n       'Case Number.1', 'Case Number.2', 'original order', 'Unnamed: 22',\n       'Unnamed: 23'],\n      dtype='object')"
     },
     "metadata": {},
     "output_type": "display_data"
    },
    {
     "data": {
      "text/plain": "(5992, 24)"
     },
     "metadata": {},
     "output_type": "display_data"
    }
   ],
   "source": [
    "# Examining the size of the dataframe: 24 columns, 5992 rows/entries\n",
    "display(df.columns)\n",
    "display(df.shape)"
   ]
  },
  {
   "cell_type": "code",
   "execution_count": 5,
   "metadata": {},
   "outputs": [
    {
     "name": "stdout",
     "output_type": "stream",
     "text": "Country 43\nArea 402\nLocation 496\nActivity 527\nName 200\nSex  567\nAge 2681\nInjury 27\nFatal (Y/N) 19\nTime 3213\nSpecies  2934\nInvestigator or Source 15\nhref formula 1\nhref 3\nUnnamed: 22 5991\nUnnamed: 23 5990\n"
    }
   ],
   "source": [
    "# Checking the amount of nulls in the whole dataframe\n",
    "\n",
    "for col, numnulls in df.isnull().sum().items():\n",
    "    if numnulls > 0:\n",
    "        print(f\"{col} {numnulls}\")"
   ]
  },
  {
   "cell_type": "code",
   "execution_count": 6,
   "metadata": {},
   "outputs": [
    {
     "data": {
      "text/plain": "0    NaN\n1    NaN\n2    NaN\n3    NaN\n4    NaN\n5    NaN\n6    NaN\n7    NaN\n8    NaN\n9    NaN\nName: Unnamed: 22, dtype: object"
     },
     "metadata": {},
     "output_type": "display_data"
    },
    {
     "data": {
      "text/html": "<div>\n<style scoped>\n    .dataframe tbody tr th:only-of-type {\n        vertical-align: middle;\n    }\n\n    .dataframe tbody tr th {\n        vertical-align: top;\n    }\n\n    .dataframe thead th {\n        text-align: right;\n    }\n</style>\n<table border=\"1\" class=\"dataframe\">\n  <thead>\n    <tr style=\"text-align: right;\">\n      <th></th>\n      <th>Case Number</th>\n      <th>Date</th>\n      <th>Year</th>\n      <th>Type</th>\n      <th>Country</th>\n      <th>Area</th>\n      <th>Location</th>\n      <th>Activity</th>\n      <th>Name</th>\n      <th>Sex</th>\n      <th>...</th>\n      <th>Species</th>\n      <th>Investigator or Source</th>\n      <th>pdf</th>\n      <th>href formula</th>\n      <th>href</th>\n      <th>Case Number.1</th>\n      <th>Case Number.2</th>\n      <th>original order</th>\n      <th>Unnamed: 22</th>\n      <th>Unnamed: 23</th>\n    </tr>\n  </thead>\n  <tbody>\n    <tr>\n      <th>1247</th>\n      <td>2006.06.18</td>\n      <td>18-Jun-06</td>\n      <td>2006</td>\n      <td>Unprovoked</td>\n      <td>BRAZIL</td>\n      <td>Pernambuco</td>\n      <td>Punta Del Chifre Beach, Olinda</td>\n      <td>Body boarding</td>\n      <td>Humberto Pessoa Batista</td>\n      <td>M</td>\n      <td>...</td>\n      <td>NaN</td>\n      <td>globalsurfnews.com</td>\n      <td>2006.06.18-Batista.pdf</td>\n      <td>http://sharkattackfile.net/spreadsheets/pdf_di...</td>\n      <td>http://sharkattackfile.net/spreadsheets/pdf_di...</td>\n      <td>2006.06.18</td>\n      <td>2006.06.18</td>\n      <td>4746</td>\n      <td>stopped here</td>\n      <td>NaN</td>\n    </tr>\n  </tbody>\n</table>\n<p>1 rows × 24 columns</p>\n</div>",
      "text/plain": "     Case Number       Date  Year        Type Country        Area  \\\n1247  2006.06.18  18-Jun-06  2006  Unprovoked  BRAZIL  Pernambuco   \n\n                            Location       Activity                     Name  \\\n1247  Punta Del Chifre Beach, Olinda  Body boarding  Humberto Pessoa Batista   \n\n     Sex   ... Species  Investigator or Source                     pdf  \\\n1247    M  ...      NaN     globalsurfnews.com  2006.06.18-Batista.pdf   \n\n                                           href formula  \\\n1247  http://sharkattackfile.net/spreadsheets/pdf_di...   \n\n                                                   href Case Number.1  \\\n1247  http://sharkattackfile.net/spreadsheets/pdf_di...    2006.06.18   \n\n     Case Number.2 original order   Unnamed: 22 Unnamed: 23  \n1247    2006.06.18           4746  stopped here         NaN  \n\n[1 rows x 24 columns]"
     },
     "metadata": {},
     "output_type": "display_data"
    }
   ],
   "source": [
    "# I noticed two columns without a label and a high number of null values: \n",
    "# \"Unnamed: 22\" and \"Unnamed: 23\". We can see if they contain any values.\n",
    "\n",
    "un22 = df[\"Unnamed: 22\"]\n",
    "display(df[\"Unnamed: 22\"].head(10))\n",
    "display(df[un22.notnull()])"
   ]
  },
  {
   "cell_type": "code",
   "execution_count": 36,
   "metadata": {},
   "outputs": [
    {
     "data": {
      "text/plain": "0    NaN\n1    NaN\n2    NaN\n3    NaN\n4    NaN\n5    NaN\n6    NaN\n7    NaN\n8    NaN\n9    NaN\nName: Unnamed: 23, dtype: object"
     },
     "metadata": {},
     "output_type": "display_data"
    },
    {
     "data": {
      "text/html": "<div>\n<style scoped>\n    .dataframe tbody tr th:only-of-type {\n        vertical-align: middle;\n    }\n\n    .dataframe tbody tr th {\n        vertical-align: top;\n    }\n\n    .dataframe thead th {\n        text-align: right;\n    }\n</style>\n<table border=\"1\" class=\"dataframe\">\n  <thead>\n    <tr style=\"text-align: right;\">\n      <th></th>\n      <th>Case Number</th>\n      <th>Date</th>\n      <th>Year</th>\n      <th>Type</th>\n      <th>Country</th>\n      <th>Area</th>\n      <th>Location</th>\n      <th>Activity</th>\n      <th>Name</th>\n      <th>Sex</th>\n      <th>...</th>\n      <th>Species</th>\n      <th>Investigator or Source</th>\n      <th>pdf</th>\n      <th>href formula</th>\n      <th>href</th>\n      <th>Case Number.1</th>\n      <th>Case Number.2</th>\n      <th>original order</th>\n      <th>Unnamed: 22</th>\n      <th>Unnamed: 23</th>\n    </tr>\n  </thead>\n  <tbody>\n    <tr>\n      <th>4182</th>\n      <td>1952.07.13</td>\n      <td>13-Jul-52</td>\n      <td>1952</td>\n      <td>Provoked</td>\n      <td>USA</td>\n      <td>California</td>\n      <td>San Diego, San Diego County</td>\n      <td>Fishing</td>\n      <td>Gerald Howard, on board sportsfishing boat Ter...</td>\n      <td>M</td>\n      <td>...</td>\n      <td>NaN</td>\n      <td>L.A. Times, 7/14/1952</td>\n      <td>1952.07.13-Howard.pdf</td>\n      <td>http://sharkattackfile.net/spreadsheets/pdf_di...</td>\n      <td>http://sharkattackfile.net/spreadsheets/pdf_di...</td>\n      <td>1952.07.13</td>\n      <td>1952.07.13</td>\n      <td>1811</td>\n      <td>NaN</td>\n      <td>Teramo</td>\n    </tr>\n    <tr>\n      <th>5585</th>\n      <td>1879.03.10</td>\n      <td>10-Mar-1879</td>\n      <td>1879</td>\n      <td>Invalid</td>\n      <td>AUSTRALIA</td>\n      <td>New South Wales</td>\n      <td>Near Sydney</td>\n      <td>The steamship Bonnie Dundee lost in collision</td>\n      <td>Cabin boy of the Bonnie Dundee</td>\n      <td>M</td>\n      <td>...</td>\n      <td>NaN</td>\n      <td>Star, 3/22/1879</td>\n      <td>1879.03.10-Bonnie-Dundee.pdf</td>\n      <td>http://sharkattackfile.net/spreadsheets/pdf_di...</td>\n      <td>http://sharkattackfile.net/spreadsheets/pdf_di...</td>\n      <td>1879.03.10</td>\n      <td>1879.03.10</td>\n      <td>408</td>\n      <td>NaN</td>\n      <td>change filename</td>\n    </tr>\n  </tbody>\n</table>\n<p>2 rows × 24 columns</p>\n</div>",
      "text/plain": "     Case Number         Date  Year      Type    Country             Area  \\\n4182  1952.07.13    13-Jul-52  1952  Provoked        USA       California   \n5585  1879.03.10  10-Mar-1879  1879   Invalid  AUSTRALIA  New South Wales   \n\n                         Location  \\\n4182  San Diego, San Diego County   \n5585                 Near Sydney    \n\n                                           Activity  \\\n4182                                        Fishing   \n5585  The steamship Bonnie Dundee lost in collision   \n\n                                                   Name Sex   ... Species   \\\n4182  Gerald Howard, on board sportsfishing boat Ter...    M  ...      NaN   \n5585                     Cabin boy of the Bonnie Dundee    M  ...      NaN   \n\n      Investigator or Source                           pdf  \\\n4182  L.A. Times, 7/14/1952          1952.07.13-Howard.pdf   \n5585         Star, 3/22/1879  1879.03.10-Bonnie-Dundee.pdf   \n\n                                           href formula  \\\n4182  http://sharkattackfile.net/spreadsheets/pdf_di...   \n5585  http://sharkattackfile.net/spreadsheets/pdf_di...   \n\n                                                   href Case Number.1  \\\n4182  http://sharkattackfile.net/spreadsheets/pdf_di...    1952.07.13   \n5585  http://sharkattackfile.net/spreadsheets/pdf_di...    1879.03.10   \n\n     Case Number.2 original order Unnamed: 22      Unnamed: 23  \n4182    1952.07.13           1811         NaN           Teramo  \n5585    1879.03.10            408         NaN  change filename  \n\n[2 rows x 24 columns]"
     },
     "metadata": {},
     "output_type": "display_data"
    },
    {
     "ename": "TypeError",
     "evalue": "drop() got multiple values for argument 'axis'",
     "output_type": "error",
     "traceback": [
      "\u001b[0;31m---------------------------------------------------------------------------\u001b[0m",
      "\u001b[0;31mTypeError\u001b[0m                                 Traceback (most recent call last)",
      "\u001b[0;32m<ipython-input-36-80c13600866c>\u001b[0m in \u001b[0;36m<module>\u001b[0;34m\u001b[0m\n\u001b[1;32m      7\u001b[0m \u001b[0;34m\u001b[0m\u001b[0m\n\u001b[1;32m      8\u001b[0m \u001b[0mdf2\u001b[0m \u001b[0;34m=\u001b[0m \u001b[0mdf\u001b[0m \u001b[0;31m# Backup in case\u001b[0m\u001b[0;34m\u001b[0m\u001b[0;34m\u001b[0m\u001b[0m\n\u001b[0;32m----> 9\u001b[0;31m \u001b[0mdf2\u001b[0m\u001b[0;34m.\u001b[0m\u001b[0mdrop\u001b[0m\u001b[0;34m(\u001b[0m\u001b[0;34m\"Unnamed: 22\"\u001b[0m\u001b[0;34m,\u001b[0m \u001b[0;34m\"Unnamed: 23\"\u001b[0m\u001b[0;34m,\u001b[0m \u001b[0maxis\u001b[0m \u001b[0;34m=\u001b[0m \u001b[0;36m1\u001b[0m\u001b[0;34m)\u001b[0m\u001b[0;34m\u001b[0m\u001b[0;34m\u001b[0m\u001b[0m\n\u001b[0m\u001b[1;32m     10\u001b[0m \u001b[0mdisplay\u001b[0m\u001b[0;34m(\u001b[0m\u001b[0mdf2\u001b[0m\u001b[0;34m.\u001b[0m\u001b[0mhead\u001b[0m\u001b[0;34m(\u001b[0m\u001b[0;34m)\u001b[0m\u001b[0;34m)\u001b[0m\u001b[0;34m\u001b[0m\u001b[0;34m\u001b[0m\u001b[0m\n",
      "\u001b[0;31mTypeError\u001b[0m: drop() got multiple values for argument 'axis'"
     ]
    }
   ],
   "source": [
    "un23 = df[\"Unnamed: 23\"]\n",
    "display(df[\"Unnamed: 23\"].head(10))\n",
    "display(df[un23.notnull()])\n",
    "\n",
    "# Neither column seems to contain data that can be used."
   ]
  },
  {
   "cell_type": "code",
   "execution_count": 42,
   "metadata": {},
   "outputs": [
    {
     "data": {
      "text/html": "<div>\n<style scoped>\n    .dataframe tbody tr th:only-of-type {\n        vertical-align: middle;\n    }\n\n    .dataframe tbody tr th {\n        vertical-align: top;\n    }\n\n    .dataframe thead th {\n        text-align: right;\n    }\n</style>\n<table border=\"1\" class=\"dataframe\">\n  <thead>\n    <tr style=\"text-align: right;\">\n      <th></th>\n      <th>Case Number</th>\n      <th>Date</th>\n      <th>Year</th>\n      <th>Type</th>\n      <th>Country</th>\n      <th>Area</th>\n      <th>Location</th>\n      <th>Activity</th>\n      <th>Name</th>\n      <th>Sex</th>\n      <th>...</th>\n      <th>Fatal (Y/N)</th>\n      <th>Time</th>\n      <th>Species</th>\n      <th>Investigator or Source</th>\n      <th>pdf</th>\n      <th>href formula</th>\n      <th>href</th>\n      <th>Case Number.1</th>\n      <th>Case Number.2</th>\n      <th>original order</th>\n    </tr>\n  </thead>\n  <tbody>\n    <tr>\n      <th>0</th>\n      <td>2016.09.18.c</td>\n      <td>18-Sep-16</td>\n      <td>2016</td>\n      <td>Unprovoked</td>\n      <td>USA</td>\n      <td>Florida</td>\n      <td>New Smyrna Beach, Volusia County</td>\n      <td>Surfing</td>\n      <td>male</td>\n      <td>M</td>\n      <td>...</td>\n      <td>N</td>\n      <td>13h00</td>\n      <td>NaN</td>\n      <td>Orlando Sentinel, 9/19/2016</td>\n      <td>2016.09.18.c-NSB.pdf</td>\n      <td>http://sharkattackfile.net/spreadsheets/pdf_di...</td>\n      <td>http://sharkattackfile.net/spreadsheets/pdf_di...</td>\n      <td>2016.09.18.c</td>\n      <td>2016.09.18.c</td>\n      <td>5993</td>\n    </tr>\n    <tr>\n      <th>1</th>\n      <td>2016.09.18.b</td>\n      <td>18-Sep-16</td>\n      <td>2016</td>\n      <td>Unprovoked</td>\n      <td>USA</td>\n      <td>Florida</td>\n      <td>New Smyrna Beach, Volusia County</td>\n      <td>Surfing</td>\n      <td>Chucky Luciano</td>\n      <td>M</td>\n      <td>...</td>\n      <td>N</td>\n      <td>11h00</td>\n      <td>NaN</td>\n      <td>Orlando Sentinel, 9/19/2016</td>\n      <td>2016.09.18.b-Luciano.pdf</td>\n      <td>http://sharkattackfile.net/spreadsheets/pdf_di...</td>\n      <td>http://sharkattackfile.net/spreadsheets/pdf_di...</td>\n      <td>2016.09.18.b</td>\n      <td>2016.09.18.b</td>\n      <td>5992</td>\n    </tr>\n    <tr>\n      <th>2</th>\n      <td>2016.09.18.a</td>\n      <td>18-Sep-16</td>\n      <td>2016</td>\n      <td>Unprovoked</td>\n      <td>USA</td>\n      <td>Florida</td>\n      <td>New Smyrna Beach, Volusia County</td>\n      <td>Surfing</td>\n      <td>male</td>\n      <td>M</td>\n      <td>...</td>\n      <td>N</td>\n      <td>10h43</td>\n      <td>NaN</td>\n      <td>Orlando Sentinel, 9/19/2016</td>\n      <td>2016.09.18.a-NSB.pdf</td>\n      <td>http://sharkattackfile.net/spreadsheets/pdf_di...</td>\n      <td>http://sharkattackfile.net/spreadsheets/pdf_di...</td>\n      <td>2016.09.18.a</td>\n      <td>2016.09.18.a</td>\n      <td>5991</td>\n    </tr>\n    <tr>\n      <th>3</th>\n      <td>2016.09.17</td>\n      <td>17-Sep-16</td>\n      <td>2016</td>\n      <td>Unprovoked</td>\n      <td>AUSTRALIA</td>\n      <td>Victoria</td>\n      <td>Thirteenth Beach</td>\n      <td>Surfing</td>\n      <td>Rory Angiolella</td>\n      <td>M</td>\n      <td>...</td>\n      <td>N</td>\n      <td>NaN</td>\n      <td>NaN</td>\n      <td>The Age, 9/18/2016</td>\n      <td>2016.09.17-Angiolella.pdf</td>\n      <td>http://sharkattackfile.net/spreadsheets/pdf_di...</td>\n      <td>http://sharkattackfile.net/spreadsheets/pdf_di...</td>\n      <td>2016.09.17</td>\n      <td>2016.09.17</td>\n      <td>5990</td>\n    </tr>\n    <tr>\n      <th>4</th>\n      <td>2016.09.15</td>\n      <td>16-Sep-16</td>\n      <td>2016</td>\n      <td>Unprovoked</td>\n      <td>AUSTRALIA</td>\n      <td>Victoria</td>\n      <td>Bells Beach</td>\n      <td>Surfing</td>\n      <td>male</td>\n      <td>M</td>\n      <td>...</td>\n      <td>N</td>\n      <td>NaN</td>\n      <td>2 m shark</td>\n      <td>The Age, 9/16/2016</td>\n      <td>2016.09.16-BellsBeach.pdf</td>\n      <td>http://sharkattackfile.net/spreadsheets/pdf_di...</td>\n      <td>http://sharkattackfile.net/spreadsheets/pdf_di...</td>\n      <td>2016.09.16</td>\n      <td>2016.09.15</td>\n      <td>5989</td>\n    </tr>\n  </tbody>\n</table>\n<p>5 rows × 22 columns</p>\n</div>",
      "text/plain": "    Case Number       Date  Year        Type    Country      Area  \\\n0  2016.09.18.c  18-Sep-16  2016  Unprovoked        USA   Florida   \n1  2016.09.18.b  18-Sep-16  2016  Unprovoked        USA   Florida   \n2  2016.09.18.a  18-Sep-16  2016  Unprovoked        USA   Florida   \n3    2016.09.17  17-Sep-16  2016  Unprovoked  AUSTRALIA  Victoria   \n4    2016.09.15  16-Sep-16  2016  Unprovoked  AUSTRALIA  Victoria   \n\n                           Location Activity             Name Sex   ...  \\\n0  New Smyrna Beach, Volusia County  Surfing             male    M  ...   \n1  New Smyrna Beach, Volusia County  Surfing   Chucky Luciano    M  ...   \n2  New Smyrna Beach, Volusia County  Surfing             male    M  ...   \n3                  Thirteenth Beach  Surfing  Rory Angiolella    M  ...   \n4                       Bells Beach  Surfing             male    M  ...   \n\n  Fatal (Y/N)   Time   Species        Investigator or Source  \\\n0           N  13h00        NaN  Orlando Sentinel, 9/19/2016   \n1           N  11h00        NaN  Orlando Sentinel, 9/19/2016   \n2           N  10h43        NaN  Orlando Sentinel, 9/19/2016   \n3           N    NaN        NaN           The Age, 9/18/2016   \n4           N    NaN  2 m shark           The Age, 9/16/2016   \n\n                         pdf  \\\n0       2016.09.18.c-NSB.pdf   \n1   2016.09.18.b-Luciano.pdf   \n2       2016.09.18.a-NSB.pdf   \n3  2016.09.17-Angiolella.pdf   \n4  2016.09.16-BellsBeach.pdf   \n\n                                        href formula  \\\n0  http://sharkattackfile.net/spreadsheets/pdf_di...   \n1  http://sharkattackfile.net/spreadsheets/pdf_di...   \n2  http://sharkattackfile.net/spreadsheets/pdf_di...   \n3  http://sharkattackfile.net/spreadsheets/pdf_di...   \n4  http://sharkattackfile.net/spreadsheets/pdf_di...   \n\n                                                href Case Number.1  \\\n0  http://sharkattackfile.net/spreadsheets/pdf_di...  2016.09.18.c   \n1  http://sharkattackfile.net/spreadsheets/pdf_di...  2016.09.18.b   \n2  http://sharkattackfile.net/spreadsheets/pdf_di...  2016.09.18.a   \n3  http://sharkattackfile.net/spreadsheets/pdf_di...    2016.09.17   \n4  http://sharkattackfile.net/spreadsheets/pdf_di...    2016.09.16   \n\n  Case Number.2 original order  \n0  2016.09.18.c           5993  \n1  2016.09.18.b           5992  \n2  2016.09.18.a           5991  \n3    2016.09.17           5990  \n4    2016.09.15           5989  \n\n[5 rows x 22 columns]"
     },
     "execution_count": 42,
     "metadata": {},
     "output_type": "execute_result"
    }
   ],
   "source": [
    "# We can drop them instead.\n",
    "\n",
    "df2 = df # Backup in case\n",
    "df3 = df2.drop(\"Unnamed: 22\", axis = 1) \n",
    "df3.head()\n",
    "df4 = df3.drop(columns = \"Unnamed: 23\") # Different syntax with same functionality\n",
    "df4.head()\n",
    "\n",
    "# Now that we have verified that we removed the correct columns, we overwrite the df we are working with:\n",
    "df = df4\n"
   ]
  },
  {
   "cell_type": "code",
   "execution_count": 34,
   "metadata": {},
   "outputs": [
    {
     "name": "stdout",
     "output_type": "stream",
     "text": "http://sharkattackfile.net/spreadsheets/pdf_directory/2016.09.18.c-NSB.pdf\nhttp://sharkattackfile.net/spreadsheets/pdf_directory/2016.09.18.c-NSB.pdf\nhttp://sharkattackfile.net/spreadsheets/pdf_directory/2016.07.29-Spain.pdf ||||| http://sharkattackfile.net/spreadsheets/pdf_directory/http://sharkattackfile.net/spreadsheets/pdf_directory/2016.07.29-Spain.pdf\nhttp://sharkattackfile.net/spreadsheets/pdf_directory/2016.07.23.a-Cutbirth.pdf ||||| http://sharkattackfile.net/spreadsheets/pdf_directory/2016.07.23-Cutbirth.pdf\nhttp://sharkattackfile.net/spreadsheets/pdf_directory/2016.05.21.a-Girl.pdf ||||| http://sharkattackfile.net/spreadsheets/pdf_directory/http://sharkattackfile.net/spreadsheets/pdf_directory/2016.05.21.a-Girl.pdf\nhttp://sharkattackfile.net/spreadsheets/pdf_directory/2015.12.21.a-Brazil.pdf ||||| http://sharkattackfile.net/spreadsheets/pdf_directory/http://sharkattackfile.net/spreadsheets/pdf_directory/2015.12.21.a-Brazil.pdf\nhttp://sharkattackfile.net/spreadsheets/pdf_directory/2015.11.15.a-Engelman.pdf ||||| http://sharkattackfile.net/spreadsheets/pdf_directory/http://sharkattackfile.net/spreadsheets/pdf_directory/2015.11.15.a-Engelman.pdf\nhttp://sharkattackfile.net/spreadsheets/pdf_directory/2015.10.05.a-Slaughter.pdf ||||| http://sharkattackfile.net/spreadsheets/pdf_directory/2015.10.05-Slaughter.pdf\nhttp://sharkattackfile.net/spreadsheets/pdf_directory/2015.06.27.a-Swanepoel.pdf ||||| http://sharkattackfile.net/spreadsheets/pdf_directory/2015.06.27-Swanepoel.pdf\nhttp://sharkattackfile.net/spreadsheets/pdf_directory/Court Case pending ||||| nan\nhttp://sharkattackfile.net/spreadsheets/pdf_directory/2015.01.24-Murray.pdf ||||| http://sharkattackfile.net/spreadsheets/pdf_directory/http://sharkattackfile.net/spreadsheets/pdf_directory/2015.01.24-Murray.pdf\nhttp://sharkattackfile.net/spreadsheets/pdf_directory/2014.10.19-Tara.pdf ||||| http://sharkattackfile.net/spreadsheets/pdf_directory/http://sharkattackfile.net/spreadsheets/pdf_directory/2014.10.19-Tara.pdf\nhttp://sharkattackfile.net/spreadsheets/pdf_directory/2014.10.18-Roberson.pdf ||||| http://sharkattackfile.net/spreadsheets/pdf_directory/2014.10.18-Roberson\nhttp://sharkattackfile.net/spreadsheets/pdf_directory/2014.10.17-Olsson, pdf ||||| http://sharkattackfile.net/spreadsheets/pdf_directory/2014.10.14-Bandy.pdf\nhttp://sharkattackfile.net/spreadsheets/pdf_directory/2014.10.03.b-Kayaks2.pdf ||||| http://sharkattackfile.net/spreadsheets/pdf_directory/2014.10.02.b-Vandenberg.pdf\nhttp://sharkattackfile.net/spreadsheets/pdf_directory/2014.10.03.a-Kayaks1.pdf ||||| http://sharkattackfile.net/spreadsheets/pdf_directory/2014.10.02.b-Vandenberg.pdf\nhttp://sharkattackfile.net/spreadsheets/pdf_directory/2014.08.15-Hayes.pdf ||||| http://sharkattackfile.net/spreadsheets/pdf_directory/2014.08.12-Hayes.pdf\nhttp://sharkattackfile.net/spreadsheets/pdf_directory/2014.07.22-Rintz.pdf ||||| http://sharkattackfile.net/spreadsheets/pdf_directory/http://sharkattackfile.net/spreadsheets/pdf_directory/2014.07.22-Rintz.pdf\nhttp://sharkattackfile.net/spreadsheets/pdf_directory/2014.06.09.a-Berry.pdf ||||| http://sharkattackfile.net/spreadsheets/pdf_directory/2014.06.09-Berry.pdf\nhttp://sharkattackfile.net/spreadsheets/pdf_directory/2014.04.03-Armstrong.pdf ||||| http://sharkattackfile.net/spreadsheets/pdf_directory/http://sharkattackfile.net/spreadsheets/pdf_directory/2014.04.03-Armstrong.pdf\nhttp://sharkattackfile.net/spreadsheets/pdf_directory/2014.02.07.b-Torres.pdf ||||| http://sharkattackfile.net/spreadsheets/pdf_directory/w014.01.25-Grant.pdf\nhttp://sharkattackfile.net/spreadsheets/pdf_directory/2014.02.07-PorpoiseBay.pdf ||||| http://sharkattackfile.net/spreadsheets/pdf_directory/w014.01.25-Grant.pdf\nhttp://sharkattackfile.net/spreadsheets/pdf_directory/2014.01.26-O'Connor.pf ||||| http://sharkattackfile.net/spreadsheets/pdf_directory/w014.01.25-Grant.pdf\nhttp://sharkattackfile.net/spreadsheets/pdf_directory/2014.01.25-Grant ||||| http://sharkattackfile.net/spreadsheets/pdf_directory/w014.01.25-Grant.pdf\nhttp://sharkattackfile.net/spreadsheets/pdf_directory/2014.01.04-Rianto.pdf ||||| pdf_directory2014.01.04-Riano.pdf \nhttp://sharkattackfile.net/spreadsheets/pdf_directory/2013.12.25-NewCaledonia.pdf ||||| http://sharkattackfile.net/spreadsheets/pdf_directory/2013.12.25-NewCaledonia.pdf \nhttp://sharkattackfile.net/spreadsheets/pdf_directory/2013.11.22-Gardiner.pdf ||||| http://sharkattackfile.net/spreadsheets/pdf_directory/2013.11.22-Gardiner\nhttp://sharkattackfile.net/spreadsheets/pdf_directory/2013.11.12-Daly.pdf ||||| http://sharkattackfile.net/spreadsheets/pdf_directory/2013.11.12-Daly\nhttp://sharkattackfile.net/spreadsheets/pdf_directory/2013.11.10-Bahamas.pdf ||||| http://sharkattackfile.net/spreadsheets/pdf_directory/2013.11.10-Bahamas\nhttp://sharkattackfile.net/spreadsheets/pdf_directory/2013.11.07.b-Gates.pdf ||||| http://sharkattackfile.net/spreadsheets/pdf_directory/2013.11.07.b-Gates\nhttp://sharkattackfile.net/spreadsheets/pdf_directory/2013.11.07.a-Melian.pdf ||||| http://sharkattackfile.net/spreadsheets/pdf_directory/2013.11.07.a-Melian\nhttp://sharkattackfile.net/spreadsheets/pdf_directory/2013.10.31-ChristianBrandon.pdf ||||| http://sharkattackfile.net/spreadsheets/pdf_directory/2013.10.31-ChristianBrandon\nhttp://sharkattackfile.net/spreadsheets/pdf_directory/2013.10.28-Simmons.pdf ||||| http://sharkattackfile.net/spreadsheets/pdf_directory/2013.10.28-Simmons\nhttp://sharkattackfile.net/spreadsheets/pdf_directory/2013.10.26.b-Tanguy.pdf ||||| http://sharkattackfile.net/spreadsheets/pdf_directory/2013.10.26.b-Tanguy\npdf-directory/2013.05.27.b-Ena.pdf ||||| http://sharkattackfile.net/spreadsheets/pdf_directory/2013.05.27.b-Ena.pdf\nhttp://sharkattackfile.net/spreadsheets/pdf_directory/2013.05.27.a-Kirkpatrick.pdf ||||| http://sharkattackfile.net/spreadsheets/pdf_directory/2013.05.27-Kirkpatrick.pdf\nhttp://sharkattackfile.net/spreadsheets/pdf_directory/12.26 ||||| http://sharkattackfile.net/spreadsheets/pdf_directory/2010.02.01-Ward.pdf\nhttp://sharkattackfile.net/spreadsheets/pdf_directory/2006.08.22.b-Melo.pdf ||||| http://sharkattackfile.net/spreadsheets/pdf_directory/2006.08.22-IsaulCoba.pdf\nhttp://sharkattackfile.net/spreadsheets/pdf_directory/2006.08.22.a-Coba.pdf ||||| http://sharkattackfile.net/spreadsheets/pdf_directory/2006.08.22.b-Brazil-incomplete.pdf\nhttp://sharkattackfile.net/spreadsheets/pdf_directory/1993.04.00-Szolomiak.pdf ||||| nan\nhttp://sharkattackfile.net/spreadsheets/pdf_directory/1989.00.00.a-Virginia-spearfisherman.pdf ||||| http://sharkattackfile.net/spreadsheets/pdf_directory/1989.00.00-Virginia-spearfisherman.pdf\nnan ||||| http://sharkattackfile.net/spreadsheets/pdf_directory/1975.01.19-Barrowman.pdf\nhttp://sharkattackfile.net/spreadsheets/pdf_directory/1963.00.00.a-Seychelles.pdf ||||| http://sharkattackfile.net/spreadsheets/pdf_directory/http://sharkattackfile.net/spreadsheets/pdf_directory/1963.00.00.a-Seychelles.pdf\nhttp://sharkattackfile.net/spreadsheets/pdf_directory/1962.03.25.b-Luxton.pdf ||||| http://sharkattackfile.net/spreadsheets/pdf_directory/http://sharkattackfile.net/spreadsheets/pdf_directory/1962.03.25.b-Luxton.pdf\nhttp://sharkattackfile.net/spreadsheets/pdf_directory/1958.08.31-NV-Ensenada.pdf ||||| http://sharkattackfile.net/spreadsheets/pdf_directory/1958.08.31.a-NV-Ensenada.pdf\nhttp://sharkattackfile.net/spreadsheets/pdf_directory/1958.07.00.b-Waterman.pdf ||||| http://sharkattackfile.net/spreadsheets/pdf_directory/1958.07.00.b - Waterman.pdf\nhttp://sharkattackfile.net/spreadsheets/pdf_directory/1945.07.30-USS Indianapolis.pdf ||||| http://sharkattackfile.net/spreadsheets/pdf_directory/1945.07.30 - USS Indianapolis.pdf\nhttp://sharkattackfile.net/spreadsheets/pdf_directory/1936.08.04.R-PearlDiver.pdf ||||| http://sharkattackfile.net/spreadsheets/pdf_directory/http://sharkattackfile.net/spreadsheets/pdf_directory/1936.08.04.R-PearlDiver.pdf\nhttp://sharkattackfile.net/spreadsheets/pdf_directory/1935.08.24-Atherfield.pdf  ||||| http://sharkattackfile.net/spreadsheets/pdf_directory/1935.08.24-Atherfield\nhttp://sharkattackfile.net/spreadsheets/pdf_directory/1924.02.08.R-Turkey.pdf ||||| http://sharkattackfile.net/spreadsheets/pdf_directory/http://sharkattackfile.net/spreadsheets/pdf_directory/1924.02.08.R-Turkey.pdf\nhttp://sharkattackfile.net/spreadsheets/pdf_directory/1900.09.05-Hartman.pdf ||||| http://sharkattackfile.net/spreadsheets/pdf_directory/http://sharkattackfile.net/spreadsheets/pdf_directory/1900.09.05-Hartman.pdf\nhttp://sharkattackfile.net/spreadsheets/pdf_directory/1890.06.26-Mayonni.pdf ||||| http://sharkattackfile.net/spreadsheets/pdf_directory/http://sharkattackfile.net/spreadsheets/pdf_directory/1890.06.26-Mayonni.pdf\nhttp://sharkattackfile.net/spreadsheets/pdf_directory/1864.01.01-Kelsall.pdf ||||| nan\nhttp://sharkattackfile.net/spreadsheets/pdf_directory/1863.00.00.R-Corfu ||||| http://sharkattackfile.net/spreadsheets/pdf_directory/http://sharkattackfile.net/spreadsheets/pdf_directory/1863.00.00.R-Corfu\nhttp://sharkattackfile.net/spreadsheets/pdf_directory/1819.07.08.R-Cadiz.pdf ||||| http://sharkattackfile.net/spreadsheets/pdf_directory/1819.07.08-Cadiz.pdf\nhttp://sharkattackfile.net/spreadsheets/pdf_directory/1637.00.00.R-Manrique.pdf ||||| http://sharkattackfile.net/spreadsheets/pdf_directory/1637.00.00-Manrique.pdf\n\n Total mismatches 54\n"
    }
   ],
   "source": [
    "# Data cleaning: there seems to be two columns with links to pdfs with details of each incident. \n",
    "# If we were interested in removing one of them, we could check whether the content is the same between them.\n",
    "\n",
    "# We can see try to eyeball a couple of rows like this.\n",
    "print(df[\"href formula\"][0])\n",
    "print(df[\"href\"][0])\n",
    "df[\"href formula\"][0] == df[\"href\"][0]\n",
    "\n",
    "# But it would be better to make a counter that checks how often there is\n",
    "# a discrepancy between the two columns as follows:\n",
    "\n",
    "discr = 0\n",
    "for i in range(len(df[\"href formula\"])):\n",
    "    if not df[\"href formula\"][i] == df[\"href\"][i]:\n",
    "        discr += 1\n",
    "        #print(df[\"href formula\"][i], \"|||||\", df[\"href\"][i]) \n"
   ]
  },
  {
   "cell_type": "code",
   "execution_count": 35,
   "metadata": {},
   "outputs": [
    {
     "name": "stdout",
     "output_type": "stream",
     "text": "Total mismatches 54\n"
    }
   ],
   "source": [
    "print(\"Total mismatches\",discr)\n",
    "\n",
    "# The mismatches seem minor from eyeballing, but we you wanted to trawl through the PDFs we would only need\n",
    "# to check both columns in these 54 cases with a mismatch between the two \n"
   ]
  },
  {
   "cell_type": "code",
   "execution_count": null,
   "metadata": {},
   "outputs": [],
   "source": []
  }
 ]
}